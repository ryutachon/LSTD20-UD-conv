{
  "nbformat": 4,
  "nbformat_minor": 0,
  "metadata": {
    "colab": {
      "name": "LST20 to UD",
      "provenance": [],
      "collapsed_sections": [
        "87vK8C6p5s8g",
        "_T1_kfJa55d_",
        "NL7ZbqiO6KMb",
        "7QxwKvgH8gcx",
        "wmXZNCENgDMX"
      ],
      "toc_visible": true,
      "authorship_tag": "ABX9TyNkP9ATfqzvXPzxgA1x+YuD",
      "include_colab_link": true
    },
    "kernelspec": {
      "name": "python3",
      "display_name": "Python 3"
    }
  },
  "cells": [
    {
      "cell_type": "markdown",
      "metadata": {
        "id": "view-in-github",
        "colab_type": "text"
      },
      "source": [
        "<a href=\"https://colab.research.google.com/github/ryutachon/LSTD20-UD-conv/blob/main/LST20_to_UD.ipynb\" target=\"_parent\"><img src=\"https://colab.research.google.com/assets/colab-badge.svg\" alt=\"Open In Colab\"/></a>"
      ]
    },
    {
      "cell_type": "markdown",
      "metadata": {
        "id": "A3rpiBny5PW-"
      },
      "source": [
        "# Pre-requisites"
      ]
    },
    {
      "cell_type": "code",
      "metadata": {
        "id": "pdGdxzMZ7H4i"
      },
      "source": [
        "import pandas as pd\n",
        "from pathlib import Path\n",
        "from collections import Counter, defaultdict\n",
        "import plotly.express as px"
      ],
      "execution_count": null,
      "outputs": []
    },
    {
      "cell_type": "code",
      "metadata": {
        "id": "GXSEQMG07mrT"
      },
      "source": [
        "from pathlib import Path\n",
        "from collections import Counter, defaultdict"
      ],
      "execution_count": null,
      "outputs": []
    },
    {
      "cell_type": "code",
      "metadata": {
        "id": "OZcfHYkvQJUY",
        "colab": {
          "base_uri": "https://localhost:8080/",
          "height": 87
        },
        "outputId": "8cd9d9bb-9995-4372-9d5b-a278dfa987cd"
      },
      "source": [
        "!pip install kora\n",
        "from kora.json import render"
      ],
      "execution_count": null,
      "outputs": [
        {
          "output_type": "stream",
          "text": [
            "Collecting kora\n",
            "  Downloading https://files.pythonhosted.org/packages/e9/1e/2e274ab9e9961412adff554484941efb42e0e742b74d2f2d99a6ea617ae6/kora-0.6.6-py3-none-any.whl\n",
            "Installing collected packages: kora\n",
            "Successfully installed kora-0.6.6\n"
          ],
          "name": "stdout"
        }
      ]
    },
    {
      "cell_type": "code",
      "metadata": {
        "id": "L7NSybT2v7WC"
      },
      "source": [
        "from IPython.display import HTML"
      ],
      "execution_count": null,
      "outputs": []
    },
    {
      "cell_type": "markdown",
      "metadata": {
        "id": "87vK8C6p5s8g"
      },
      "source": [
        "## Treebank Download\n",
        "Type: Universal Dependencies"
      ]
    },
    {
      "cell_type": "code",
      "metadata": {
        "id": "obxbQDQx6hh3",
        "colab": {
          "base_uri": "https://localhost:8080/",
          "height": 87
        },
        "outputId": "05129281-851e-41c0-dcb6-4ccd7abf5e38"
      },
      "source": [
        "!gdown --id 1n4hl0hLxAkquvJXdxqOJ0mQLx1xbXI9O"
      ],
      "execution_count": null,
      "outputs": [
        {
          "output_type": "stream",
          "text": [
            "Downloading...\n",
            "From: https://drive.google.com/uc?id=1n4hl0hLxAkquvJXdxqOJ0mQLx1xbXI9O\n",
            "To: /content/tnc_treebank.zip\n",
            "\r0.00B [00:00, ?B/s]\r8.91MB [00:00, 86.2MB/s]\r9.35MB [00:00, 81.9MB/s]\n"
          ],
          "name": "stdout"
        }
      ]
    },
    {
      "cell_type": "code",
      "metadata": {
        "id": "J9yCQrAY6mt0",
        "colab": {
          "base_uri": "https://localhost:8080/",
          "height": 52
        },
        "outputId": "aa0dedd5-ec21-4226-a25c-07254863e89f"
      },
      "source": [
        "!zipinfo tnc_treebank.zip | grep tagged"
      ],
      "execution_count": null,
      "outputs": [
        {
          "output_type": "stream",
          "text": [
            "-rw-r--r--  3.0 unx  5971597 bx defX 18-Jun-15 13:20 tbank/tnc-tagged.pick\n",
            "-rw-r--r--  3.0 unx  2616218 tx defX 18-Jun-15 13:20 tbank/tnc-tagged.txt\n"
          ],
          "name": "stdout"
        }
      ]
    },
    {
      "cell_type": "code",
      "metadata": {
        "id": "uJInBHE_6rps",
        "colab": {
          "base_uri": "https://localhost:8080/",
          "height": 52
        },
        "outputId": "731ff0eb-3586-4581-8679-74387d577983"
      },
      "source": [
        "!unzip -j tnc_treebank.zip tbank/tnc-tagged.txt"
      ],
      "execution_count": null,
      "outputs": [
        {
          "output_type": "stream",
          "text": [
            "Archive:  tnc_treebank.zip\n",
            "  inflating: tnc-tagged.txt          \n"
          ],
          "name": "stdout"
        }
      ]
    },
    {
      "cell_type": "code",
      "metadata": {
        "id": "tGF2ED6F7Gpi",
        "colab": {
          "base_uri": "https://localhost:8080/",
          "height": 211
        },
        "outputId": "fb458bd0-6342-429a-b921-661d2080f41d"
      },
      "source": [
        "!head tnc-tagged.txt "
      ],
      "execution_count": null,
      "outputs": [
        {
          "output_type": "stream",
          "text": [
            "นางสาว/NOUN;อรวรรยา/PROPN;<sp>/PUNCT;แท่นวิทยานนท์/PROPN\n",
            "ความ/NOUN;มุ่งหวัง/VERB;นับ/VERB;ได้/ADV;ว่า/SCONJ;เป็น/VERB;ส่วน/NOUN;ที่/SCONJ;สำคัญ/VERB;ของ/ADP;ชีวิต/NOUN;คนเรา/NOUN;<sp>/PUNCT;เพราะ/SCONJ;ความ/NOUN;มุ่งหวัง/VERB;ใน/ADP;ชีวิต/NOUN;<sp>/PUNCT;คือ/VERB;<sp>/PUNCT;สิ่ง/NOUN;ที่/SCONJ;เรา/PRON;วางแผน/VERB;ไว้/AUX;ว่า/SCONJ;<sp>/PUNCT;เรา/PRON;ต้องการ/VERB;จะ/AUX;เป็น/VERB;<sp>/PUNCT;จะ/AUX;มี/VERB;<sp>/PUNCT;และ/CCONJ;<sp>/PUNCT;จะ/AUX;ทำ/VERB;<sp>/PUNCT;คนเรา/NOUN;ทุก/ADV;คน/NOUN;ก็/SCONJ;ล้วน/PRON;ต้องการ/VERB;ให้/SCONJ;ความ/NOUN;มุ่งหวัง/VERB;ของ/ADP;ตนเอง/NOUN;ประสบ/VERB;ความสำเร็จ/NOUN;ด้วยกัน/ADV;ทั้งนั้น/ADV;<sp>/PUNCT;ไม่ว่า/SCONJ;จะ/AUX;เป็น/VERB;เด็ก/NOUN;<sp>/PUNCT;วัยรุ่น/NOUN;<sp>/PUNCT;หรือ/CCONJ;คน/NOUN;แก่/ADJ;<sp>/PUNCT;อย่าง/NOUN;ที่/SCONJ;หลาย/ADV;คน/NOUN;กล่าว/VERB;ไว้/ADV;ว่า/SCONJ;<sp>/PUNCT;ชีวิต/NOUN;ต้อง/AUX;อยู่/VERB;ด้วย/ADP;ความหวัง/NOUN;<sp>/PUNCT;ถ้า/SCONJ;ไม่/PART;มี/VERB;ก็/SCONJ;อยู่/VERB;ไม่/PART;ได้/ADV;<sp>/PUNCT;เพราะ/SCONJ;เรา/PRON;เกิด/VERB;มา/ADV;แค่/ADV;หนึ่ง/NUM;ครั้ง/NOUN;ก็/SCONJ;ย่อม/AUX;อยาก/VERB;จะ/AUX;เป็น/VERB;ที่/SCONJ;จดจำ/VERB;ได้/ADV;<sp>/PUNCT;หรือ/CCONJ;ทำ/VERB;ประโยชน์/NOUN\n",
            "เรา/PRON;ควร/AUX;ลอง/VERB;ถาม/VERB;ตัวเอง/PRON;ดู/ADV;สิ/PART;ว่า/SCONJ;<sp>/PUNCT;ลักษณะ/NOUN;ของ/ADP;ความ/NOUN;มุ่งหวัง/VERB;ใน/ADP;ปัจจุบัน/NOUN;ของ/ADP;เรา/PRON;มัน/PRON;มา/VERB;จาก/ADP;ตัวเรา/NOUN;หรือ/CCONJ;จาก/ADP;คน/NOUN;อื่น/DET;<sp>/PUNCT;หลาย/ADV;ครั้ง/NOUN;ที่/SCONJ;คนเรา/NOUN;ถูก/AUX;กดดัน/VERB;จาก/ADP;บุคคล/NOUN;รอบ/ADP;ข้าง/NOUN;ให้/SCONJ;เป็น/VERB;อย่าง/NOUN;นั้น/DET;หรือ/CCONJ;อย่าง/NOUN;นี้/DET;<sp>/PUNCT;โดยที่/SCONJ;เรา/PRON;ไม่/PART;มี/VERB;ความ/NOUN;มุ่งหวัง/VERB;ที่/SCONJ;จะ/AUX;เป็น/VERB;เช่นนั้น/ADV;เลย/ADV;<sp>/PUNCT;บาง/ADV;คน/NOUN;ก็/SCONJ;จะ/AUX;ยอม/VERB;เป็น/VERB;ทุกข์/NOUN;เอง/ADV;เพื่อ/SCONJ;ให้/SCONJ;คน/NOUN;รอบ/ADP;ข้าง/NOUN;มี/VERB;ความ/NOUN;สุข/ADJ;<sp>/PUNCT;แต่/CCONJ;ใน/ADP;ความเป็นจริง/NOUN;นั้น/DET;<sp>/PUNCT;เรา/PRON;ควร/AUX;คำนึง/VERB;ถึง/ADP;ใจ/NOUN;เรา/PRON;ก่อน/ADV;ว่า/SCONJ;เรา/PRON;ต้องการ/VERB;อะไร/PRON;กัน/PRON;แน่/ADV;เพราะ/SCONJ;เรา/PRON;จะ/AUX;เป็น/VERB;คน/NOUN;ที่/SCONJ;อยู่/VERB;กับ/ADP;ตัวเรา/NOUN;เอง/DET;ไป/ADV;ตลอด/ADV;ชีวิต/NOUN;<sp>/PUNCT;แต่/CCONJ;ก็/SCONJ;ไม่/PART;ใช่/VERB;จะ/AUX;ไม่/PART;สนใจ/VERB;คน/NOUN;รอบ/ADP;ข้าง/NOUN;เลย/ADV;<sp>/PUNCT;เพราะ/SCONJ;มนุษย์/NOUN;เป็น/VERB;สัตว์/NOUN;สังคม/NOUN;<sp>/PUNCT;การ/NOUN;ได้รับ/VERB;การ/NOUN;ยอมรับ/VERB;จาก/ADP;สังคม/NOUN;ก็/SCONJ;จำเป็น/VERB;เช่นเดียวกัน/ADV;<sp>/PUNCT;ฉะนั้น/CCONJ;ไม่/PART;ง่าย/VERB;เลย/PART;ที่/SCONJ;จะ/AUX;หา/VERB;จุดมุ่งหมาย/NOUN;ใน/ADP;ชีวิต/NOUN;ให้/VERB;กับ/ADP;ตนเอง/NOUN;แต่/CCONJ;การ/NOUN;ที่/SCONJ;จะ/AUX;ทำให้/VERB;มัน/PRON;สำเร็จ/VERB;ก็/SCONJ;คง/AUX;จะ/AUX;ยาก/VERB;กว่า/ADV;<sp>/PUNCT;ทั้งนี้ทั้งนั้น/CCONJ;<sp>/PUNCT;เรา/PRON;ไม่/PART;ควร/VERB;ที่/SCONJ;จะ/AUX;หวัง/VERB;อะไร/PRON;ที่/SCONJ;เกินตัว/VERB;หรือ/CCONJ;เกิน/VERB;ความสามารถ/NOUN;<sp>/PUNCT;เพราะ/SCONJ;อาจ/AUX;จะ/AUX;ทำให้/VERB;เรา/PRON;ผิดหวัง/VERB;ได้/ADV\n",
            "เรา/PRON;ควร/AUX;ตาม/VERB;หา/VERB;จุดมุ่งหมาย/NOUN;ของ/ADP;เรา/PRON;ให้/SCONJ;เจอ/VERB;ก่อน/ADV;<sp>/PUNCT;นั่นคือ/CCONJ;<sp>/PUNCT;ปัจจัย/NOUN;แรก/ADJ;ที่/SCONJ;จะ/AUX;ทำ/VERB;ให้/SCONJ;ความ/NOUN;มุ่งหวัง/VERB;เป็น/VERB;จริง/ADV;<sp>/PUNCT;แล้ว/CCONJ;ทุก/ADV;อย่าง/NOUN;ก็/SCONJ;จะ/AUX;เป็น/VERB;ไป/ADV;ตาม/ADP;ขั้นตอน/NOUN;ของ/ADP;มัน/PRON;<sp>/PUNCT;ยก/VERB;ตัวอย่าง/NOUN;<sp>/PUNCT;เช่น/SCONJ;<sp>/PUNCT;เปรียบ/VERB;จุดมุ่งหมาย/NOUN;คือ/VERB;การ/NOUN;ขับรถ/VERB;<sp>/PUNCT;สิ่ง/NOUN;ที่/SCONJ;เรา/PRON;พึง/AUX;มี/VERB;ก็/SCONJ;คือ/VERB;<sp>/PUNCT;ความมั่นใจ/NOUN;ใน/ADP;ตนเอง/NOUN;เพราะ/SCONJ;ถ้าหาก/SCONJ;เรา/PRON;มี/VERB;แล้ว/ADV;นั้น/PART;<sp>/PUNCT;ไม่ว่า/SCONJ;เรา/PRON;จะ/AUX;ทำ/VERB;อะไร/PRON;ก็ตาม/PART;<sp>/PUNCT;มัน/PRON;ก็/SCONJ;จะ/AUX;ง่าย/VERB;ขึ้น/ADV;<sp>/PUNCT;หาก/SCONJ;เรา/PRON;มัว/AUX;แต่/PART;ลังเล/VERB;ว่า/SCONJ;จะ/AUX;เหยียบ/VERB;คันเร่ง/NOUN;หรือ/CCONJ;เบรก/NOUN;ดี/ADJ;<sp>/PUNCT;จะ/AUX;ไป/VERB;ทาง/NOUN;ซ้าย/ADJ;หรือ/CCONJ;ทาง/NOUN;ขวา/ADJ;<sp>/PUNCT;รถ/NOUN;มัน/PRON;ก็/SCONJ;คง/AUX;ยัง/AUX;ไม่/PART;ไป/VERB;ไหน/PRON;สัก/ADV;ที/NOUN;<sp>/PUNCT;แรง/NOUN;บันดาล/VERB;ใจ/NOUN;<sp>/PUNCT;ก็/SCONJ;เปรียบเสมือน/VERB;น้ำมัน/NOUN;ที่/SCONJ;ทำให้/VERB;รถยนต์/NOUN;ขับเคลื่อน/VERB;ไป/VERB;ได้/ADV;<sp>/PUNCT;ถึงแม้ว่า/SCONJ;ระยะทาง/NOUN;มัน/PRON;จะ/AUX;ไกล/VERB;สัก/NUM;เพียงใด/ADV;ขอ/VERB;แค่/ADV;เรา/PRON;มี/VERB;ความพยายาม/NOUN;มัน/PRON;ก็/SCONJ;คง/AUX;จะ/AUX;ถึง/VERB;เส้นชัย/NOUN;เข้า/VERB;สัก/ADV;วัน/NOUN;<sp>/PUNCT;และ/CCONJ;ถ้า/SCONJ;เป็น/VERB;ไป/ADV;ได้/ADV;<sp>/PUNCT;ผู้/NOUN;สนับสนุน/VERB;ก็/SCONJ;เป็น/VERB;สิ่ง/NOUN;สำคัญ/ADJ;เช่นเดียวกัน/ADV;เปรียบ/VERB;ได้/ADV;ใน/ADP;ยาม/NOUN;ที่/SCONJ;รถ/NOUN;สตาร์ท/VERB;ไม่/PART;ติด/VERB;<sp>/PUNCT;จำเป็น/VERB;ที่/SCONJ;จะ/AUX;ต้อง/AUX;มี/VERB;คน/NOUN;ไป/VERB;ช่วย/VERB;เข็น/VERB;เพื่อ/SCONJ;ให้/SCONJ;รถ/NOUN;ไป/VERB;ต่อ/ADV;ได้/ADV;<sp>/PUNCT;เพราะฉะนั้น/CCONJ;<sp>/PUNCT;ปัจจัย/NOUN;เหล่านี้/DET;ล้วน/PRON;มี/VERB;ส่วน/NOUN;ทำ/VERB;ให้/SCONJ;ความ/NOUN;มุ่งหวัง/VERB;สำเร็จ/VERB;ทั้งนั้น/ADV\n",
            "การ/NOUN;ท่องเที่ยว/VERB;<sp>/PUNCT;:/PUNCT;<sp>/PUNCT;แหล่ง/NOUN;รายได้/NOUN;สำคัญ/ADJ;ของ/ADP;ไทย/PROPN\n",
            "ใน/ADP;ปี/NOUN;หนึ่ง/NUM;<sp>/PUNCT;ๆ/PUNCT;<sp>/PUNCT;รายได้/NOUN;ที่/SCONJ;ประเทศ/NOUN;ไทย/PROPN;ได้รับ/VERB;มา/VERB;จาก/ADP;หลาย/NUM;ภาค/NOUN;ส่วน/NOUN;ด้วยกัน/ADJ;<sp>/PUNCT;ไม่ว่า/SCONJ;จะ/AUX;เป็น/VERB;<sp>/PUNCT;การ/NOUN;ส่งออก/VERB;พืช/NOUN;ผล/NOUN;ทาง/ADP;เกษตรกรรม/NOUN;<sp>/PUNCT;ผลิตภัณฑ์/NOUN;หัตถกรรม/NOUN;<sp>/PUNCT;การลงทุน/NOUN;ของ/ADP;ชาวต่างชาติ/NOUN;ใน/ADP;ไทย/PROPN;<sp>/PUNCT;รวม/VERB;ไป/ADV;ถึง/ADP;แหล่ง/NOUN;รายได้/NOUN;สำคัญ/ADJ;ที่/SCONJ;เรียกว่า/VERB;<sp>/PUNCT;การ/NOUN;ท่องเที่ยว/VERB\n",
            "เนื่องจาก/SCONJ;ประเทศ/NOUN;ไทย/PROPN;มี/VERB;ลักษณะ/NOUN;ภูมิ/NOUN;ประเทศ/NOUN;ที่/SCONJ;สวยงาม/VERB;และ/CCONJ;หลากหลาย/VERB;มี/VERB;ทั้ง/SCONJ;<sp>/PUNCT;แม่น้ำ/NOUN;<sp>/PUNCT;ทะเล/NOUN;<sp>/PUNCT;ภูเขา/NOUN;<sp>/PUNCT;อีกทั้ง/SCONJ;ยัง/AUX;ตั้ง/VERB;อยู่/VERB;ใกล้/ADP;เส้นศูนย์สูตร/NOUN;<sp>/PUNCT;ทำ/VERB;ให้/SCONJ;มี/VERB;สภาพ/NOUN;อากาศ/NOUN;ที่/SCONJ;อบอุ่น/VERB;ค่อน/AUX;ไป/VERB;ทาง/NOUN;ร้อน/ADJ;ซึ่ง/SCONJ;เป็น/VERB;อากาศ/NOUN;ที่/SCONJ;ชาว/NOUN;ยุโรป/PROPN;ส่วนใหญ่/ADJ;พึง/AUX;ปรารถนา/VERB;เพราะ/SCONJ;หา/VERB;ไม่/PART;ได้/ADV;ใน/ADP;ประเทศ/NOUN;ตนเอง/NOUN;จึง/SCONJ;ต้อง/AUX;หัน/VERB;มา/VERB;พึ่ง/VERB;ประเทศ/NOUN;ไทย/PROPN;ของ/ADP;เรา/PRON;<sp>/PUNCT;และ/CCONJ;ส่วนใหญ่/ADV;ก็/SCONJ;ได้รับ/VERB;ความ/NOUN;ประทับใจ/VERB;กลับ/VERB;ไป/VERB;เป็น/VERB;ของ/NOUN;ฝาก/VERB;ไม่/PART;น้อย/ADV;<sp>/PUNCT;จึง/SCONJ;ไป/VERB;บอก/VERB;เล่า/VERB;ถึง/ADP;ความ/NOUN;ประทับใจ/VERB;แก่/ADP;ครอบครัว/NOUN;และ/CCONJ;เพื่อนฝูง/NOUN;<sp>/PUNCT;นับ/VERB;เป็น/VERB;การ/NOUN;ขยาย/VERB;ตลาด/NOUN;การ/NOUN;ท่องเที่ยว/VERB;ของ/ADP;ประเทศ/NOUN;ไทย/PROPN;อย่าง/PART;ดี/ADV;ทีเดียว/ADV;<sp>/PUNCT;อีก/ADV;หนึ่ง/NOUN;ใน/ADP;แรงดึงดูด/NOUN;ที่/SCONJ;ทำ/VERB;ให้/SCONJ;ชาวต่างชาติ/NOUN;ติดใจ/VERB;ประเทศ/NOUN;ไทย/PROPN;<sp>/PUNCT;น่า/AUX;จะ/AUX;เป็น/VERB;<sp>/PUNCT;รสชาติ/NOUN;อาหาร/NOUN;<sp>/PUNCT;ที่/SCONJ;มี/VERB;ความ/NOUN;เป็น/VERB;เอกลักษณ์/NOUN;<sp>/PUNCT;สังเกต/VERB;ได้/ADV;จาก/ADP;ใน/ADP;ต่างประเทศ/NOUN;มี/VERB;ร้าน/NOUN;อาหาร/NOUN;ไทย/PROPN;ผุด/VERB;ขึ้น/VERB;เป็น/VERB;ดอกเห็ด/NOUN;<sp>/PUNCT;และ/CCONJ;ล้วน/ADV;ได้รับ/VERB;ความ/NOUN;นิยม/VERB;กัน/PRON;ทั้งนั้น/ADV;<sp>/PUNCT;นั่น/DET;อาจ/AUX;จะ/AUX;ทำ/VERB;ให้/SCONJ;นักท่องเที่ยว/NOUN;ตัดสินใจ/VERB;เดินทาง/VERB;มา/VERB;ลิ้ม/VERB;ลอง/VERB;รสชาติ/NOUN;ของ/ADP;อาหาร/NOUN;ที่/SCONJ;เป็น/VERB;รส/NOUN;ดั้งเดิม/ADJ;ก็/SCONJ;เป็นได้/VERB\n",
            "การ/NOUN;ท่องเที่ยว/VERB;แห่ง/ADP;ประเทศ/NOUN;ไทย/PROPN;<sp>/PUNCT;หรือ/CCONJ;<sp>/PUNCT;ททท/NOUN;./PUNCT;<sp>/PUNCT;เผย/VERB;ว่า/SCONJ;ใน/ADP;ปี/NOUN;<sp>/PUNCT;2554/NUM;<sp>/PUNCT;จะ/AUX;มี/VERB;นักท่องเที่ยว/NOUN;ต่างชาติ/NOUN;<sp>/PUNCT;16.4/NUM;-/PUNCT;16.5/NUM;<sp>/PUNCT;ล้าน/NUM;คน/NOUN;<sp>/PUNCT;เดินทาง/VERB;มา/VERB;ยัง/ADP;ประเทศ/NOUN;ไทย/PROPN;ทำให้/VERB;มี/VERB;รายได้/NOUN;กว่า/ADV;<sp>/PUNCT;6.2/NUM;<sp>/PUNCT;แสน/NUM;ล้าน/NUM;บาท/NOUN;<sp>/PUNCT;ซึ่ง/SCONJ;นับ/VERB;เป็น/VERB;ตัวเลข/NOUN;ที่/SCONJ;สูง/VERB;ทีเดียว/ADV;<sp>/PUNCT;เนื่องจาก/SCONJ;<sp>/PUNCT;เมื่อ/ADP;หลาย/ADV;ปี/NOUN;ก่อน/DET;ประเทศ/NOUN;ไทย/PROPN;ประสบ/VERB;ภัยพิบัติ/NOUN;ทาง/ADP;ธรรมชาติ/NOUN;<sp>/PUNCT;รวม/VERB;ไป/ADV;ถึง/ADP;เหตุการณ์/NOUN;วุ่นวาย/VERB;ใน/ADP;ประเทศ/NOUN;<sp>/PUNCT;ทำ/VERB;ให้/SCONJ;นักท่องเที่ยว/NOUN;ตัดสินใจ/VERB;เบน/VERB;เข็ม/NOUN;ที่/SCONJ;จะ/AUX;ไม่/PART;เดินทาง/VERB;มา/VERB;เที่ยว/VERB;ประเทศ/NOUN;ไทย/PROPN;<sp>/PUNCT;ประเทศ/NOUN;ไทย/PROPN;จึง/SCONJ;สูญเสีย/VERB;รายได้/NOUN;ไป/VERB;พอสมควร/ADV;ใน/ADP;ปี/NOUN;นั้น/DET;<sp>/PUNCT;ๆ/PUNCT;<sp>/PUNCT;การ/NOUN;ท่องเที่ยว/VERB;แห่ง/ADP;ประเทศ/NOUN;ไทย/PROPN;จึง/SCONJ;เร่ง/VERB;ฟื้นฟู/VERB;ให้/SCONJ;สถาน/NOUN;ท่องเที่ยว/VERB;กลับ/VERB;มา/VERB;สวยงาม/VERB;ดังเดิม/ADV;และ/CCONJ;เร่ง/VERB;ทำ/VERB;การ/NOUN;ตลาด/NOUN;เพื่อ/SCONJ;ประชาสัมพันธ์/VERB;อย่าง/PART;เต็มที่/ADV;เพื่อ/SCONJ;หวัง/VERB;ว่า/SCONJ;นักท่องเที่ยว/NOUN;จะ/AUX;กลับ/VERB;มา/VERB;ให้/VERB;ความ/NOUN;ไว้วางใจ/VERB;ประเทศ/NOUN;ไทย/PROPN;เช่น/ADP;เดิม/NOUN;<sp>/PUNCT;ซึ่ง/SCONJ;ก็/SCONJ;มี/VERB;แนวโน้ม/NOUN;อัตรา/NOUN;นักท่องเที่ยว/NOUN;เพิ่ม/VERB;ขึ้น/ADV;สูง/VERB;ขึ้น/ADV;เรื่อย/ADV;ๆ/PUNCT;<sp>/PUNCT;เป็นต้นมา/PART\n",
            "รวม/VERB;ไป/ADV;ถึง/ADP;หลาย/ADV;<sp>/PUNCT;ๆ/PUNCT;<sp>/PUNCT;ครั้ง/NOUN;ที่/SCONJ;นิตยสาร/NOUN;ท่องเที่ยว/VERB;ทำการ/VERB;จัด/VERB;อันดับ/NOUN;เมือง/NOUN;ที่/SCONJ;น่า/AUX;ท่องเที่ยว/VERB;ที่สุด/ADV;<sp>/PUNCT;เมือง/NOUN;ใน/ADP;ประเทศ/NOUN;ไทย/PROPN;จะ/AUX;เข้า/VERB;ไป/VERB;ร่วม/VERB;แจม/VERB;อยู่/VERB;ใน/ADP;สิบ/NUM;อันดับ/NOUN;แรก/DET;จน/SCONJ;แทบ/AUX;ไม่/PART;ต้อง/AUX;ลุ้น/VERB;<sp>/PUNCT;ซึ่ง/SCONJ;ที่/SCONJ;น่า/AUX;ภูมิใจ/VERB;ที่สุด/ADV;<sp>/PUNCT;คือ/CCONJ;<sp>/PUNCT;การ/NOUN;จัด/VERB;อันดับ/NOUN;ของ/ADP;<sp>/PUNCT;World/NOUN;'s/VERB;<sp>/PUNCT;Best/ADJ;<sp>/PUNCT;Award/NOUN;<sp>/PUNCT;2011/NUM;<sp>/PUNCT;โดย/ADP;ผู้/NOUN;อ่าน/VERB;นิตยสาร/NOUN;<sp>/PUNCT;TravelLeisure/PROPN;<sp>/PUNCT;กรุงเทพมหานคร/PROPN;<sp>/PUNCT;ได้/AUX;คว้า/VERB;อันดับ/NOUN;หนึ่ง/NUM;มา/AUX;ให้/SCONJ;คน/NOUN;ไทย/PROPN;ทุก/ADV;คน/NOUN;ได้/AUX;ร่วม/VERB;ยินดี/VERB;<sp>/PUNCT;นั่น/PRON;แสดง/VERB;ว่า/SCONJ;<sp>/PUNCT;ชาวต่างชาติ/NOUN;จำนวน/NOUN;มาก/ADJ;ให้/VERB;ความสนใจ/NOUN;ประเทศ/NOUN;ไทย/PROPN;ไม่/PART;น้อย/ADV;เลยทีเดียว/PART\n",
            "สรุป/VERB;ได้/ADV;ว่า/SCONJ;การ/NOUN;ท่องเที่ยว/VERB;นั้น/DET;เป็น/VERB;แหล่ง/NOUN;รายได้/NOUN;ที่/SCONJ;สำคัญ/VERB;ของ/ADP;ประเทศ/NOUN;<sp>/PUNCT;เรา/PRON;ชาว/NOUN;ไทย/PROPN;ทุก/ADV;คน/NOUN;จึง/SCONJ;ควร/AUX;ช่วย/VERB;กัน/PRON;อนุรักษ์/VERB;สถานที่/NOUN;ท่องเที่ยว/VERB;ต่างๆ/DET;<sp>/PUNCT;ให้/SCONJ;สวยงาม/VERB;และ/CCONJ;คง/VERB;อยู่/VERB;<sp>/PUNCT;รวม/VERB;ไป/ADV;ถึง/ADP;การ/NOUN;รณรงค์/VERB;เที่ยว/VERB;ใน/ADP;ประเทศ/NOUN;แทนที่/SCONJ;จะ/AUX;ไป/VERB;ต่างประเทศ/NOUN;<sp>/PUNCT;เงินทอง/NOUN;จะ/AUX;ได้/AUX;กอง/VERB;อยู่/VERB;ใน/ADP;ประเทศ/NOUN;ของ/ADP;เรา/PRON;<sp>/PUNCT;ไม่/PART;รั่ว/VERB;ไหล/VERB;ไป/VERB;ที่/NOUN;อื่น/DET;<sp>/PUNCT;เป็น/VERB;การ/NOUN;ช่วย/VERB;เพิ่ม/VERB;รายได้/NOUN;ให้/VERB;กับ/ADP;ประเทศ/NOUN;อีก/ADV;ด้วย/ADV\n"
          ],
          "name": "stdout"
        }
      ]
    },
    {
      "cell_type": "markdown",
      "metadata": {
        "id": "_T1_kfJa55d_"
      },
      "source": [
        "## LST20 Download\n",
        "Type: NECTEC Wordbank"
      ]
    },
    {
      "cell_type": "code",
      "metadata": {
        "id": "jTLn30qE3oFj"
      },
      "source": [
        "# เชื่อมต่อ  ถ้าไม่ได้ต่อไว้แล้วอัตโนมัติ\n",
        "if not Path('/content/drive').exists():\n",
        "  from google.colab import drive\n",
        "  drive.mount('/content/drive')"
      ],
      "execution_count": null,
      "outputs": []
    },
    {
      "cell_type": "code",
      "metadata": {
        "id": "XemenwSB3vaX"
      },
      "source": [
        "# copy มาไว้ใน Colab\n",
        "!cp \"/content/drive/My Drive/AIFORTHAI-LST20Corpus.tar.gz\" ."
      ],
      "execution_count": null,
      "outputs": []
    },
    {
      "cell_type": "code",
      "metadata": {
        "id": "SXL53r4A34R7",
        "colab": {
          "base_uri": "https://localhost:8080/",
          "height": 121
        },
        "outputId": "ca938e40-258e-4ae0-c6e8-38dc8ae00774"
      },
      "source": [
        "# ดูไฟล์\n",
        "!ls -l"
      ],
      "execution_count": null,
      "outputs": [
        {
          "output_type": "stream",
          "text": [
            "total 24928\n",
            "-rw------- 1 root root 13551362 Sep 11 08:43 AIFORTHAI-LST20Corpus.tar.gz\n",
            "drwx------ 4 root root     4096 Sep 11 08:42 drive\n",
            "drwxr-xr-x 1 root root     4096 Aug 27 16:39 sample_data\n",
            "-rw-r--r-- 1 root root  2616218 Jun 15  2018 tnc-tagged.txt\n",
            "-rw-r--r-- 1 root root  9345714 Sep 11 08:34 tnc_treebank.zip\n"
          ],
          "name": "stdout"
        }
      ]
    },
    {
      "cell_type": "code",
      "metadata": {
        "id": "kvXTdH004AlA"
      },
      "source": [
        "!tar -xzf AIFORTHAI-LST20Corpus.tar.gz --strip-components 1"
      ],
      "execution_count": null,
      "outputs": []
    },
    {
      "cell_type": "code",
      "metadata": {
        "id": "6EjBRfmv7AV1",
        "colab": {
          "base_uri": "https://localhost:8080/",
          "height": 260
        },
        "outputId": "eb35c7d7-c75c-4b2e-bebb-670719f54ad9"
      },
      "source": [
        "!ls -l"
      ],
      "execution_count": null,
      "outputs": [
        {
          "output_type": "stream",
          "text": [
            "total 28952\n",
            "-rw-r--r-- 1  501 staff     6060 Aug 10 11:38  AGREEMENT.txt\n",
            "-rw------- 1 root root  13551362 Sep 11 08:43  AIFORTHAI-LST20Corpus.tar.gz\n",
            "-rw-r--r-- 1  501 staff     2338 Aug 10 12:00  DESCRIPTION.txt\n",
            "drwx------ 4 root root      4096 Sep 11 08:42  drive\n",
            "drwxr-xr-x 2  501 staff    36864 Sep 11 08:43  eval\n",
            "-rw-r--r-- 1  501 staff    98497 Aug  5 05:25  genres.txt\n",
            "-rw-r--r-- 1  501 staff   786382 Aug 10 11:07 'LST20 Annotation Guideline.pdf'\n",
            "-rw-r--r-- 1  501 staff  2887969 Aug  5 08:04 'LST20 Brief Specification.pdf'\n",
            "drwxr-xr-x 1 root root      4096 Aug 27 16:39  sample_data\n",
            "drwxr-xr-x 2  501 staff    36864 Sep 11 08:43  test\n",
            "-rw-r--r-- 1 root root   2616218 Jun 15  2018  tnc-tagged.txt\n",
            "-rw-r--r-- 1 root root   9345714 Sep 11 08:34  tnc_treebank.zip\n",
            "drwxr-xr-x 2  501 staff   253952 Sep 11 08:43  train\n"
          ],
          "name": "stdout"
        }
      ]
    },
    {
      "cell_type": "code",
      "metadata": {
        "id": "LtqlNXid4QC_"
      },
      "source": [
        "# เอา doc ไปเก็บใน drive ไว้อ่าน\n",
        "!cp *.pdf \"drive/My Drive/\""
      ],
      "execution_count": null,
      "outputs": []
    },
    {
      "cell_type": "code",
      "metadata": {
        "id": "xEfF4UVI9GoL"
      },
      "source": [
        "train = Path('train')"
      ],
      "execution_count": null,
      "outputs": []
    },
    {
      "cell_type": "code",
      "metadata": {
        "id": "W6dhE4Qs9KZz"
      },
      "source": [
        "# ตัดไฟล์ขยะ\n",
        "train_files = [f for f in train.iterdir() if not f.name.startswith('.')] "
      ],
      "execution_count": null,
      "outputs": []
    },
    {
      "cell_type": "markdown",
      "metadata": {
        "id": "NL7ZbqiO6KMb"
      },
      "source": [
        "# **Main Tasks**\n",
        "\n",
        "*   สร้างตัวแสดง context ของ word + part of speech ที่เราต้องการทราบ\n",
        "*   สร้าง pair แปลง LST20 PoS เป็น UD PoS\n",
        "*   ตรวจสอบว่าคำใน UD กับ LST สมเหตุสมผลกันหรือไม่\n",
        "\n",
        "Part Of Speech ที่แนะนำให้ตรวจ: PART (UD)\n"
      ]
    },
    {
      "cell_type": "code",
      "metadata": {
        "id": "_pNYxrm87KUZ"
      },
      "source": [
        "def gen_UD_pairs():\n",
        "  for line in open(\"tnc-tagged.txt\"):\n",
        "    pairs = line.strip().split(';')\n",
        "    for pair in pairs:\n",
        "      yield tuple(pair.split('/')[:2])"
      ],
      "execution_count": null,
      "outputs": []
    },
    {
      "cell_type": "code",
      "metadata": {
        "id": "6ZHvr5j7DLtl",
        "colab": {
          "base_uri": "https://localhost:8080/",
          "height": 35
        },
        "outputId": "7e2ae00b-2d3b-432f-cd5b-4c3263654fc4"
      },
      "source": [
        "len(list(gen_UD_pairs()))"
      ],
      "execution_count": null,
      "outputs": [
        {
          "output_type": "execute_result",
          "data": {
            "text/plain": [
              "147956"
            ]
          },
          "metadata": {
            "tags": []
          },
          "execution_count": 28
        }
      ]
    },
    {
      "cell_type": "markdown",
      "metadata": {
        "id": "ptBDZsVnBocA"
      },
      "source": [
        "Word2pos & Pos2word"
      ]
    },
    {
      "cell_type": "code",
      "metadata": {
        "id": "yuV683exBocB"
      },
      "source": [
        "w2pos_UD = defaultdict(Counter)\n",
        "for w, pos in gen_UD_pairs():\n",
        "  w2pos_UD[w][pos] += 1"
      ],
      "execution_count": null,
      "outputs": []
    },
    {
      "cell_type": "code",
      "metadata": {
        "id": "e6JijYLDBocE"
      },
      "source": [
        "pos2w_UD = defaultdict(Counter)\n",
        "for w, pos in gen_UD_pairs():\n",
        "  pos2w_UD[pos][w] += 1"
      ],
      "execution_count": null,
      "outputs": []
    },
    {
      "cell_type": "code",
      "metadata": {
        "id": "PS1byRgnEzKk",
        "colab": {
          "base_uri": "https://localhost:8080/",
          "height": 191
        },
        "outputId": "9d81ccf3-d1a4-4449-f29f-36f40804fde5"
      },
      "source": [
        "pos2w_UD['PART'].most_common(10)"
      ],
      "execution_count": null,
      "outputs": [
        {
          "output_type": "execute_result",
          "data": {
            "text/plain": [
              "[('ไม่', 1645),\n",
              " ('อย่าง', 452),\n",
              " ('เช่น', 202),\n",
              " ('เป็นต้น', 96),\n",
              " ('แล้ว', 65),\n",
              " ('หรือไม่', 44),\n",
              " ('ก็ตาม', 43),\n",
              " ('น่า', 42),\n",
              " ('นั้น', 40),\n",
              " ('ก็ได้', 34)]"
            ]
          },
          "metadata": {
            "tags": []
          },
          "execution_count": 31
        }
      ]
    },
    {
      "cell_type": "code",
      "metadata": {
        "id": "C9fKsRHbFN2e",
        "colab": {
          "base_uri": "https://localhost:8080/",
          "height": 35
        },
        "outputId": "f02a2d63-d62a-4305-a1f9-e8afb0fb25ed"
      },
      "source": [
        "w2pos_UD['ไม่']"
      ],
      "execution_count": null,
      "outputs": [
        {
          "output_type": "execute_result",
          "data": {
            "text/plain": [
              "Counter({'NOUN': 2, 'PART': 1645})"
            ]
          },
          "metadata": {
            "tags": []
          },
          "execution_count": 32
        }
      ]
    },
    {
      "cell_type": "code",
      "metadata": {
        "id": "zoBvmhdXGEw7",
        "colab": {
          "base_uri": "https://localhost:8080/",
          "height": 35
        },
        "outputId": "635d1b8d-0eca-4ae9-9506-ea62054beae4"
      },
      "source": [
        "w2pos_UD['อย่าง']"
      ],
      "execution_count": null,
      "outputs": [
        {
          "output_type": "execute_result",
          "data": {
            "text/plain": [
              "Counter({'ADP': 10, 'NOUN': 159, 'PART': 452, 'SCONJ': 3})"
            ]
          },
          "metadata": {
            "tags": []
          },
          "execution_count": 33
        }
      ]
    },
    {
      "cell_type": "markdown",
      "metadata": {
        "id": "zPB4CEEX7moS"
      },
      "source": [
        "## Quick acknowledgement\n",
        "\n",
        "*   defaultdict() จะสร้าง dict ใหม่สำหรับ element ที่ยังไม่มี\n",
        "*   yield ทำงานคล้าย return แต่แทนที่จะส่งทั้ง list มันจะส่งแค่ element ทีละตัว จึงช่วยลด memory ที่ต้องใช้\n",
        "\n",
        "ขอบคุณพี่ป๋องสำหรับแนวทางโค้ดครับ\n",
        "\n"
      ]
    },
    {
      "cell_type": "markdown",
      "metadata": {
        "id": "7QxwKvgH8gcx"
      },
      "source": [
        "# LST20 Word positories"
      ]
    },
    {
      "cell_type": "code",
      "metadata": {
        "id": "sMrwGpex8kTD"
      },
      "source": [
        "def gen_fname():\n",
        "  for dir in ['train', 'test', 'eval']:\n",
        "    for path in Path(dir).iterdir():\n",
        "      if path.name.startswith('.'): # ตัดขยะออก\n",
        "        continue\n",
        "      yield path"
      ],
      "execution_count": null,
      "outputs": []
    },
    {
      "cell_type": "code",
      "metadata": {
        "id": "hGPdTZSoQ-n4"
      },
      "source": [
        "def gen_sent():\n",
        "  for file in gen_fname():\n",
        "    yield from file.read_text().strip().split('\\n\\n')"
      ],
      "execution_count": null,
      "outputs": []
    },
    {
      "cell_type": "code",
      "metadata": {
        "id": "HgGbXEVot8Xg"
      },
      "source": [
        "def gen_word():\n",
        "  for file in gen_fname():\n",
        "    for line in open(file):\n",
        "      parts = line.split('\\t')\n",
        "      if len(parts) == 4:\n",
        "        yield parts[0]"
      ],
      "execution_count": null,
      "outputs": []
    },
    {
      "cell_type": "code",
      "metadata": {
        "id": "cfYQ3dK7-YcW"
      },
      "source": [
        "def gen_pos():\n",
        "  for file in gen_fname():\n",
        "    for line in open(file):\n",
        "      parts = line.split('\\t') #parts ย่อมาจาก Parts of Speech (pos)\n",
        "      if len(parts) == 4: # บรรทัดที่ไม่ใช่บรรทัดว่าง\n",
        "        yield parts[1]"
      ],
      "execution_count": null,
      "outputs": []
    },
    {
      "cell_type": "code",
      "metadata": {
        "id": "HjTWLsyO_d2W"
      },
      "source": [
        "def gen_LST_pair():\n",
        "  for file in gen_fname():\n",
        "    for line in open(file):\n",
        "      parts = line.split('\\t')\n",
        "      if len(parts) == 4:\n",
        "        yield tuple(parts[:2]) # สร้าง tuple ที่มีทั้งคำศัพท์ และ part of speech"
      ],
      "execution_count": null,
      "outputs": []
    },
    {
      "cell_type": "code",
      "metadata": {
        "id": "87nxfOJoDUrC",
        "colab": {
          "base_uri": "https://localhost:8080/",
          "height": 35
        },
        "outputId": "fd616715-3a33-48f6-a4de-64c1b17b4f11"
      },
      "source": [
        "#จำนวนคู่ของคำกับ Part of Speech\n",
        "len(list(gen_LST_pair()))"
      ],
      "execution_count": null,
      "outputs": [
        {
          "output_type": "execute_result",
          "data": {
            "text/plain": [
              "3162864"
            ]
          },
          "metadata": {
            "tags": []
          },
          "execution_count": 39
        }
      ]
    },
    {
      "cell_type": "code",
      "metadata": {
        "id": "0J1v5qr-auEV",
        "colab": {
          "base_uri": "https://localhost:8080/",
          "height": 35
        },
        "outputId": "13693c8c-49dc-4fea-f57f-72a8636ad8ba"
      },
      "source": [
        "len(list(gen_sent()))"
      ],
      "execution_count": null,
      "outputs": [
        {
          "output_type": "execute_result",
          "data": {
            "text/plain": [
              "74180"
            ]
          },
          "metadata": {
            "tags": []
          },
          "execution_count": 40
        }
      ]
    },
    {
      "cell_type": "code",
      "metadata": {
        "id": "IS8W7R5Hw0Zy",
        "colab": {
          "base_uri": "https://localhost:8080/",
          "height": 35
        },
        "outputId": "b173b214-311d-48a8-8fb4-16d670de3b8a"
      },
      "source": [
        "len(list(gen_word()))"
      ],
      "execution_count": null,
      "outputs": [
        {
          "output_type": "execute_result",
          "data": {
            "text/plain": [
              "3162864"
            ]
          },
          "metadata": {
            "tags": []
          },
          "execution_count": 41
        }
      ]
    },
    {
      "cell_type": "code",
      "metadata": {
        "id": "hlcViHsuZilw"
      },
      "source": [
        "sents = list(gen_sent())"
      ],
      "execution_count": null,
      "outputs": []
    },
    {
      "cell_type": "code",
      "metadata": {
        "id": "xu46-iQjSdb5",
        "colab": {
          "base_uri": "https://localhost:8080/",
          "height": 53
        },
        "outputId": "5c401a26-95c2-4b8c-b883-9ec117c2a4ed"
      },
      "source": [
        "sent = next(gen_sent())\n",
        "sent"
      ],
      "execution_count": null,
      "outputs": [
        {
          "output_type": "execute_result",
          "data": {
            "application/vnd.google.colaboratory.intrinsic+json": {
              "type": "string"
            },
            "text/plain": [
              "'\"\\tPU\\tO\\tB_CLS\\nน้อง\\tNN\\tB_TTL\\tI_CLS\\nเก๋\\tNN\\tB_PER\\tI_CLS\\n\"\\tPU\\tO\\tI_CLS\\nเก็บ\\tVV\\tO\\tI_CLS\\nตัว\\tNN\\tO\\tI_CLS\\nเงียบ\\tVV\\tO\\tI_CLS\\nที่\\tPS\\tO\\tI_CLS\\nเชียงใหม่\\tNN\\tB_LOC\\tI_CLS\\n\"\\tPU\\tO\\tI_CLS\\nบุษบา\\tNN\\tB_PER\\tI_CLS\\n\"\\tPU\\tO\\tI_CLS\\nปิด\\tVV\\tO\\tI_CLS\\nมือถือ\\tNN\\tO\\tI_CLS\\nหนี\\tVV\\tO\\tI_CLS\\nสื่อ\\tNN\\tO\\tE_CLS'"
            ]
          },
          "metadata": {
            "tags": []
          },
          "execution_count": 43
        }
      ]
    },
    {
      "cell_type": "code",
      "metadata": {
        "id": "1fOv4cKsSmoA"
      },
      "source": [
        "lines = sent.split('\\n')"
      ],
      "execution_count": null,
      "outputs": []
    },
    {
      "cell_type": "code",
      "metadata": {
        "id": "Z8dg08e3S02Z",
        "colab": {
          "base_uri": "https://localhost:8080/",
          "height": 35
        },
        "outputId": "42598d0c-978e-46c7-d839-b4c448ab79ea"
      },
      "source": [
        "line = lines[0]\n",
        "line.split('\\t')"
      ],
      "execution_count": null,
      "outputs": [
        {
          "output_type": "execute_result",
          "data": {
            "text/plain": [
              "['\"', 'PU', 'O', 'B_CLS']"
            ]
          },
          "metadata": {
            "tags": []
          },
          "execution_count": 45
        }
      ]
    },
    {
      "cell_type": "code",
      "metadata": {
        "id": "blMHVJ3TUEDu",
        "colab": {
          "base_uri": "https://localhost:8080/",
          "height": 35
        },
        "outputId": "c2dfe339-2f1c-498d-eff5-6f8565d5fc8f"
      },
      "source": [
        "words = []\n",
        "for line in lines:\n",
        "  line = line.split('\\t')\n",
        "  words.append(line[0])\n",
        "\n",
        "word = words[1]\n",
        "word"
      ],
      "execution_count": null,
      "outputs": [
        {
          "output_type": "execute_result",
          "data": {
            "application/vnd.google.colaboratory.intrinsic+json": {
              "type": "string"
            },
            "text/plain": [
              "'น้อง'"
            ]
          },
          "metadata": {
            "tags": []
          },
          "execution_count": 46
        }
      ]
    },
    {
      "cell_type": "markdown",
      "metadata": {
        "id": "2xfelmSRAyc1"
      },
      "source": [
        "Useful Dictionaries"
      ]
    },
    {
      "cell_type": "code",
      "metadata": {
        "id": "OKb1YZrlAyA6"
      },
      "source": [
        "w2pos_LST20 = defaultdict(Counter)\n",
        "for w, pos in gen_LST_pair():\n",
        "  w2pos_LST20[w][pos] += 1"
      ],
      "execution_count": null,
      "outputs": []
    },
    {
      "cell_type": "code",
      "metadata": {
        "id": "cwjeSew8A9RH"
      },
      "source": [
        "pos2w_LST20 = defaultdict(Counter)\n",
        "for w, pos in gen_LST_pair():\n",
        "  pos2w_LST20[pos][w] += 1"
      ],
      "execution_count": null,
      "outputs": []
    },
    {
      "cell_type": "code",
      "metadata": {
        "id": "gBZZrYNkxFaD"
      },
      "source": [
        "w2sent_LST20 = dict()\n",
        "for i, sent in enumerate(gen_sent()):\n",
        "  for j, line in enumerate(sent.split('\\n')):\n",
        "    w = line.split('\\t')[0]\n",
        "    if w not in w2sent_LST20:\n",
        "      w2sent_LST20[w] = []\n",
        "    w2sent_LST20[w].append((i,j))"
      ],
      "execution_count": null,
      "outputs": []
    },
    {
      "cell_type": "code",
      "metadata": {
        "id": "zuLcyN3Zzn_Z",
        "colab": {
          "base_uri": "https://localhost:8080/",
          "height": 225
        },
        "outputId": "33d31ec6-b71f-4b91-a9f6-0e19c9651bbe"
      },
      "source": [
        "w2sent_LST20['คริสต์']"
      ],
      "execution_count": null,
      "outputs": [
        {
          "output_type": "execute_result",
          "data": {
            "text/plain": [
              "[(1255, 37),\n",
              " (1257, 26),\n",
              " (38578, 20),\n",
              " (38971, 68),\n",
              " (39081, 23),\n",
              " (60643, 16),\n",
              " (62673, 8),\n",
              " (62677, 10),\n",
              " (62685, 3),\n",
              " (62696, 70),\n",
              " (72117, 2),\n",
              " (72118, 9)]"
            ]
          },
          "metadata": {
            "tags": []
          },
          "execution_count": 50
        }
      ]
    },
    {
      "cell_type": "code",
      "metadata": {
        "id": "PWL_rOgVz6o2"
      },
      "source": [
        "lines = sents[3787].split('\\n')\n",
        "line_pairs = []\n",
        "for line in lines:\n",
        "  line = line.split('\\t')\n",
        "  line_pairs.append(tuple(line[:2]))\n",
        "\n",
        "line_pairs"
      ],
      "execution_count": null,
      "outputs": []
    },
    {
      "cell_type": "code",
      "metadata": {
        "id": "1V6TldLz7fQQ",
        "colab": {
          "base_uri": "https://localhost:8080/",
          "height": 52
        },
        "outputId": "28a2616a-fea7-482c-e213-3f58e0a6b8a1"
      },
      "source": [
        "word = 'คริสต์'\n",
        "sid,j = w2sent_LST20[word][0]\n",
        "print(sid)\n",
        "print(j)"
      ],
      "execution_count": null,
      "outputs": [
        {
          "output_type": "stream",
          "text": [
            "1255\n",
            "37\n"
          ],
          "name": "stdout"
        }
      ]
    },
    {
      "cell_type": "code",
      "metadata": {
        "id": "jEW7b4Y772eV",
        "colab": {
          "base_uri": "https://localhost:8080/",
          "height": 35
        },
        "outputId": "92d14a63-8f01-4983-86ac-cdb08700f3bf"
      },
      "source": [
        "lines = sents[sid].split('\\n')\n",
        "len(lines)"
      ],
      "execution_count": null,
      "outputs": [
        {
          "output_type": "execute_result",
          "data": {
            "text/plain": [
              "38"
            ]
          },
          "metadata": {
            "tags": []
          },
          "execution_count": 74
        }
      ]
    },
    {
      "cell_type": "code",
      "metadata": {
        "id": "pyNo7I-vdRvJ",
        "colab": {
          "base_uri": "https://localhost:8080/",
          "height": 35
        },
        "outputId": "e4089b6b-2f10-4af8-b725-3daf9d13212b"
      },
      "source": [
        "print(lines[37])"
      ],
      "execution_count": null,
      "outputs": [
        {
          "output_type": "stream",
          "text": [
            "คริสต์\tNN\tB_PER\tE_CLS\n"
          ],
          "name": "stdout"
        }
      ]
    },
    {
      "cell_type": "code",
      "metadata": {
        "id": "GnWLhJpi8FCy",
        "colab": {
          "base_uri": "https://localhost:8080/",
          "height": 87
        },
        "outputId": "baa54ae9-7967-479e-e18a-6cc5fe4d761b"
      },
      "source": [
        "for i in range(j-3,min(j+2,len(lines))):\n",
        "  print(lines[i].split('\\t')[0])"
      ],
      "execution_count": null,
      "outputs": [
        {
          "output_type": "stream",
          "text": [
            "เพราะ\n",
            "นับถือ\n",
            "ศาสนา\n",
            "คริสต์\n"
          ],
          "name": "stdout"
        }
      ]
    },
    {
      "cell_type": "code",
      "metadata": {
        "id": "d0J8K2dYBLM6",
        "colab": {
          "base_uri": "https://localhost:8080/",
          "height": 35
        },
        "outputId": "e47da793-c31b-4f89-9a2e-9bb246cdb20e"
      },
      "source": [
        "left = \"\"\n",
        "for i in range(j - 3, j):\n",
        "    left += lines[i].split('\\t')[0]\n",
        "    left += \" \"\n",
        "print(left)"
      ],
      "execution_count": null,
      "outputs": [
        {
          "output_type": "stream",
          "text": [
            "เพราะ นับถือ ศาสนา \n"
          ],
          "name": "stdout"
        }
      ]
    },
    {
      "cell_type": "code",
      "metadata": {
        "id": "55d9nir_BsQ2",
        "colab": {
          "base_uri": "https://localhost:8080/",
          "height": 35
        },
        "outputId": "050cb3db-6d65-4629-c059-0457ee32bfe3"
      },
      "source": [
        "right = \"\"\n",
        "for i in range(j + 1):\n",
        "  right += lines[i].split('\\t')[0]\n",
        "  right += \" \"\n",
        "print(right)"
      ],
      "execution_count": null,
      "outputs": [
        {
          "output_type": "stream",
          "text": [
            "แต่ เจี๊ยบ ได้ ออก มา แก้ ข่าว ว่า ยัง ไม่ พร้อม ที่ แต่งงาน _ เพราะ มี ภาระ ต้อง ดูแล แม่ กับ น้อง _ พร้อม เมื่อ ไหร่ แต่ง ทันที โดย ไม่ ต้อง ดู ฤกษ์ _ เพราะ นับถือ ศาสนา คริสต์ \n"
          ],
          "name": "stdout"
        }
      ]
    },
    {
      "cell_type": "code",
      "metadata": {
        "id": "RCwhzBI13xB8"
      },
      "source": [
        "def context(sent, j, size = 3):\n",
        "  #แสดงคำที่อยู่ก่อนหน้าและหลังคำที่ j ในบรรทัดที่ sent\n",
        "  #จำนวน size คำ \n",
        "  lines = sent.split('\\n')\n",
        "  left = \"\"\n",
        "  right = \"\"\n",
        "\n",
        "  for i in range(max(j - size, 0), j):\n",
        "    left += lines[i].split('\\t')[0]\n",
        "    left += \" \"\n",
        "\n",
        "  for i in range(j + 1, min(j + size + 1, len(lines))):\n",
        "    right += lines[i].split('\\t')[0]\n",
        "    right += \" \"\n",
        "\n",
        "  return left, lines[j].split('\\t')[0], right"
      ],
      "execution_count": null,
      "outputs": []
    },
    {
      "cell_type": "code",
      "metadata": {
        "id": "dfe7IYXfGdmM",
        "colab": {
          "base_uri": "https://localhost:8080/",
          "height": 35
        },
        "outputId": "2b6049bf-b517-4896-b8cc-36474fa8fa9b"
      },
      "source": [
        "def check_pos(sent, j, pos=None):\n",
        "  #เช็ค sent ว่ามี pos ที่ต้องการหรือไม่\n",
        "  if pos is None: return True\n",
        "  \n",
        "  lines = sent.split('\\n')\n",
        "  if lines[j].split('\\t')[1] == pos:\n",
        "    return True\n",
        "  return False\n",
        "\n",
        "check_pos(sents[sid], j, \"NN\")"
      ],
      "execution_count": null,
      "outputs": [
        {
          "output_type": "execute_result",
          "data": {
            "text/plain": [
              "True"
            ]
          },
          "metadata": {
            "tags": []
          },
          "execution_count": 81
        }
      ]
    },
    {
      "cell_type": "code",
      "metadata": {
        "id": "bayMH50rA3Ls",
        "colab": {
          "base_uri": "https://localhost:8080/",
          "height": 35
        },
        "outputId": "9a1c8bab-a46c-4e5e-8ab1-fd33bd2b8828"
      },
      "source": [
        "context(sents[3787], 16)"
      ],
      "execution_count": null,
      "outputs": [
        {
          "output_type": "execute_result",
          "data": {
            "text/plain": [
              "('การ ราย เล็ก ', '_', 'หรือ กรณีที่ ไม่ ')"
            ]
          },
          "metadata": {
            "tags": []
          },
          "execution_count": 82
        }
      ]
    },
    {
      "cell_type": "code",
      "metadata": {
        "id": "dpKWqb0-CLX3",
        "colab": {
          "base_uri": "https://localhost:8080/",
          "height": 104
        },
        "outputId": "e7d992db-f74a-467d-96e2-f1784a2a9833"
      },
      "source": [
        "def search(word):\n",
        "  found = w2sent_LST20[word]\n",
        "  if len(found) > 5:\n",
        "    found = found[:5]\n",
        "  for sid, j in found:\n",
        "    print(context(sents[sid], j))\n",
        "\n",
        "search('คริสต์')"
      ],
      "execution_count": null,
      "outputs": [
        {
          "output_type": "stream",
          "text": [
            "('เพราะ นับถือ ศาสนา ', 'คริสต์', '')\n",
            "('_ พอดี เป็น ', 'คริสต์', '_ สมมุติ ว่า ')\n",
            "('พิธี ทาง ศาสนา ', 'คริสต์', '_ โดย พระคาร์ดินัล ')\n",
            "('หมู่ บ้าน ชาว ', 'คริสต์', '')\n",
            "('และ ทหาร กะเหรี่ยง ', 'คริสต์', 'ว่า _ ตามที่ ')\n"
          ],
          "name": "stdout"
        }
      ]
    },
    {
      "cell_type": "code",
      "metadata": {
        "id": "XVOsTYstICQ_",
        "colab": {
          "base_uri": "https://localhost:8080/",
          "height": 104
        },
        "outputId": "5789e611-d6bc-43cc-d867-9ef80fbdb64d"
      },
      "source": [
        "def search_pos(word, pos = None, size = 5):\n",
        "  found = []\n",
        "  for sid,j in w2sent_LST20[word]:\n",
        "    if check_pos(sents[sid], j, pos):\n",
        "      found.append((sid, j))\n",
        "    if len(found) == size:\n",
        "      break\n",
        "\n",
        "  for sid, j in found:\n",
        "    print(context(sents[sid], j))  \n",
        "  \n",
        "search_pos('ช่าง', \"FX\")"
      ],
      "execution_count": null,
      "outputs": [
        {
          "output_type": "stream",
          "text": [
            "('จัด โครงการ ฝึก ', 'ช่าง', 'ไทย สู่ ความ ')\n",
            "('ฟูมฟัก _ สู่ ', 'ช่าง', 'มืออาชีพ ปี ที่ ')\n",
            "('ฟูมฟัก _ สู่ ', 'ช่าง', 'มืออาชีพ ปี ที่ ')\n",
            "('ที่ มา เป็น ', 'ช่าง', 'ภาพ ให้ งาน ')\n",
            "('_ ปารีส _ ', 'ช่าง', 'ริบหรี่ เหลือเกิน _ ')\n"
          ],
          "name": "stdout"
        }
      ]
    },
    {
      "cell_type": "code",
      "metadata": {
        "id": "hproAIK8Cyvk",
        "colab": {
          "base_uri": "https://localhost:8080/",
          "height": 123
        },
        "outputId": "50784fb5-92f7-4a6a-b0c8-bf76b13ddef4"
      },
      "source": [
        "def search_CON(word, pos = None, size = 5):\n",
        "  found = []\n",
        "  for sid,j in w2sent_LST20[word]:\n",
        "    if check_pos(sents[sid], j, pos):\n",
        "      found.append((sid, j))\n",
        "    if len(found) == size:\n",
        "      break\n",
        "\n",
        "  ctx_list = []\n",
        "  for sid, j in found:\n",
        "    ctx_list.append(context(sents[sid], j))\n",
        "  \n",
        "  html = \"<table>\"\n",
        "  for txt in ctx_list:\n",
        "    html += f\"\"\"\n",
        "            <tr>\n",
        "              <td>{txt[0]}</td>\n",
        "              <td style = \"color : navy\">{txt[1]}</td>\n",
        "              <td>{txt[2]}</td>\n",
        "            </tr>\n",
        "            \"\"\"\n",
        "  html += \"<style>td:first-child {text-align: right}</style>\"\n",
        "\n",
        "  display(HTML(html))\n",
        "\n",
        "search_CON('ช่าง', 'FX')"
      ],
      "execution_count": null,
      "outputs": [
        {
          "output_type": "display_data",
          "data": {
            "text/html": [
              "<table>\n",
              "            <tr>\n",
              "              <td>จัด โครงการ ฝึก </td>\n",
              "              <td style = \"color : navy\">ช่าง</td>\n",
              "              <td>ไทย สู่ ความ </td>\n",
              "            </tr>\n",
              "            \n",
              "            <tr>\n",
              "              <td>ฟูมฟัก _ สู่ </td>\n",
              "              <td style = \"color : navy\">ช่าง</td>\n",
              "              <td>มืออาชีพ ปี ที่ </td>\n",
              "            </tr>\n",
              "            \n",
              "            <tr>\n",
              "              <td>ฟูมฟัก _ สู่ </td>\n",
              "              <td style = \"color : navy\">ช่าง</td>\n",
              "              <td>มืออาชีพ ปี ที่ </td>\n",
              "            </tr>\n",
              "            \n",
              "            <tr>\n",
              "              <td>ที่ มา เป็น </td>\n",
              "              <td style = \"color : navy\">ช่าง</td>\n",
              "              <td>ภาพ ให้ งาน </td>\n",
              "            </tr>\n",
              "            \n",
              "            <tr>\n",
              "              <td>_ ปารีส _ </td>\n",
              "              <td style = \"color : navy\">ช่าง</td>\n",
              "              <td>ริบหรี่ เหลือเกิน _ </td>\n",
              "            </tr>\n",
              "            <style>td:first-child {text-align: right}</style>"
            ],
            "text/plain": [
              "<IPython.core.display.HTML object>"
            ]
          },
          "metadata": {
            "tags": []
          }
        }
      ]
    },
    {
      "cell_type": "markdown",
      "metadata": {
        "id": "e-7VBT-pGQXw"
      },
      "source": [
        "## ตัวอย่างผลลัพธ์ของ w2pos"
      ]
    },
    {
      "cell_type": "code",
      "metadata": {
        "id": "Sa8ZAuQ0O5og"
      },
      "source": [
        "w2pos_LST20['ไม่']"
      ],
      "execution_count": null,
      "outputs": []
    },
    {
      "cell_type": "code",
      "metadata": {
        "id": "3Rc1RT8Vvzip"
      },
      "source": [
        "w2pos_LST20['เช่น']"
      ],
      "execution_count": null,
      "outputs": []
    },
    {
      "cell_type": "markdown",
      "metadata": {
        "id": "8ENvV8akGal8"
      },
      "source": [
        "## สาธิต Plotly โดยใช้ข้อมูล DataFrame"
      ]
    },
    {
      "cell_type": "code",
      "metadata": {
        "id": "jbuv5OIdv50K"
      },
      "source": [
        "wp_3 = pd.DataFrame.from_dict(w2pos_LST20['เช่น'], orient = 'index').reset_index()\n",
        "wp_3 = wp_3.rename(columns = {0:\"Count\"})"
      ],
      "execution_count": null,
      "outputs": []
    },
    {
      "cell_type": "code",
      "metadata": {
        "id": "5cv-XMvjwdon"
      },
      "source": [
        "px.bar(wp_3, y = \"index\", x = \"Count\", color = \"index\", orientation = 'h')"
      ],
      "execution_count": null,
      "outputs": []
    },
    {
      "cell_type": "markdown",
      "metadata": {
        "id": "wmXZNCENgDMX"
      },
      "source": [
        "#LST20 PoS Check"
      ]
    },
    {
      "cell_type": "markdown",
      "metadata": {
        "id": "N41gfuohMOWi"
      },
      "source": [
        "## LST20 Particle Check"
      ]
    },
    {
      "cell_type": "markdown",
      "metadata": {
        "id": "OPqR3x0T_m26"
      },
      "source": [
        "Overview: เทียบ PA ของ LST20 ว่าสอดคล้องกับ PART ของ Universal Dependencies "
      ]
    },
    {
      "cell_type": "code",
      "metadata": {
        "id": "l3wQnlaVwxS_"
      },
      "source": [
        "part_check = ['ไม่', 'อย่าง', 'เช่น', 'เป็นต้น', 'ครับ', 'นะ', 'เลย']"
      ],
      "execution_count": null,
      "outputs": []
    },
    {
      "cell_type": "code",
      "metadata": {
        "id": "anxKrPNAx7sT"
      },
      "source": [
        "PART_dict = {}\n",
        "PART_list = []\n",
        "for part in part_check:\n",
        "  PART_dict = w2pos_LST20[part]\n",
        "  PART_list.append(PART_dict)"
      ],
      "execution_count": null,
      "outputs": []
    },
    {
      "cell_type": "code",
      "metadata": {
        "id": "reL6rXxjNGLr"
      },
      "source": [
        "PART_df_list = []\n",
        "for ele in PART_list:\n",
        "  PART_df_list.append(pd.DataFrame.from_dict(ele, orient = 'index').rename(columns = {0: 'Count'}))"
      ],
      "execution_count": null,
      "outputs": []
    },
    {
      "cell_type": "code",
      "metadata": {
        "id": "pHrKvLoY107u"
      },
      "source": [
        "PART_df_list[0].columns"
      ],
      "execution_count": null,
      "outputs": []
    },
    {
      "cell_type": "code",
      "metadata": {
        "id": "nOq2Izsn2Uku"
      },
      "source": [
        "df = PART_df_list[3]\n",
        "display(df)"
      ],
      "execution_count": null,
      "outputs": []
    },
    {
      "cell_type": "code",
      "metadata": {
        "id": "lANd8Xf_4wcO"
      },
      "source": [
        "df.loc['CC']"
      ],
      "execution_count": null,
      "outputs": []
    },
    {
      "cell_type": "code",
      "metadata": {
        "id": "-fZFUHw84If-"
      },
      "source": [
        "for idx, df in enumerate(PART_df_list):\n",
        "  print(\"{}\".format(part_check[idx]))\n",
        "  display(df)\n",
        "  print('\\n')"
      ],
      "execution_count": null,
      "outputs": []
    },
    {
      "cell_type": "code",
      "metadata": {
        "id": "MskZh1BH6WCH"
      },
      "source": [
        "PART_df_plot = []\n",
        "for df in PART_df_list:\n",
        "  PART_df_plot.append(df.reset_index())"
      ],
      "execution_count": null,
      "outputs": []
    },
    {
      "cell_type": "code",
      "metadata": {
        "id": "c09JH6fH6gbx"
      },
      "source": [
        "PART_df_plot[0]"
      ],
      "execution_count": null,
      "outputs": []
    },
    {
      "cell_type": "code",
      "metadata": {
        "id": "34ssHY1CKr_u"
      },
      "source": [
        "for df in PART_df_plot:\n",
        "  display(px.bar(df, y = \"index\", x = \"Count\", color = \"index\", orientation = 'h'))"
      ],
      "execution_count": null,
      "outputs": []
    },
    {
      "cell_type": "markdown",
      "metadata": {
        "id": "meV6opuO-ziI"
      },
      "source": [
        "## LST20 AUX Check"
      ]
    },
    {
      "cell_type": "markdown",
      "metadata": {
        "id": "-6fIV60FKozA"
      },
      "source": [
        "## LST20 Prefix Check"
      ]
    },
    {
      "cell_type": "code",
      "metadata": {
        "id": "MhxVrZ8fNJ1H"
      },
      "source": [
        "pos2w_LST20['FX'].most_common(15)"
      ],
      "execution_count": null,
      "outputs": []
    },
    {
      "cell_type": "code",
      "metadata": {
        "id": "4MwW7TgHOQZm"
      },
      "source": [
        "FX_check = []\n",
        "for key in pos2w_LST20['FX'].keys():\n",
        "  FX_check.append(key)\n",
        "\n",
        "print(FX_check)"
      ],
      "execution_count": null,
      "outputs": []
    },
    {
      "cell_type": "code",
      "metadata": {
        "id": "tz6UOgkCOYPq"
      },
      "source": [
        "err = ['ได้รับการ', 'อย่างน', 'ประหยัด', 'วิน', 'ช่าง','ประหยัด','มีการ']"
      ],
      "execution_count": null,
      "outputs": []
    },
    {
      "cell_type": "code",
      "metadata": {
        "id": "nPXX3LstQgeG"
      },
      "source": [
        "for word in err:\n",
        "  search_CON(word, 'FX', 10)"
      ],
      "execution_count": null,
      "outputs": []
    },
    {
      "cell_type": "code",
      "metadata": {
        "id": "-bi6ObkQZVPO"
      },
      "source": [
        "for fx in FX_check:\n",
        "  if fx in err:\n",
        "    FX_check.remove(fx) \n",
        "\n",
        "print(FX_check)"
      ],
      "execution_count": null,
      "outputs": []
    },
    {
      "cell_type": "code",
      "metadata": {
        "id": "yVwVn4lhmj1M"
      },
      "source": [
        "FX_dict = {}\n",
        "FX_list = []\n",
        "for fx in FX_check:\n",
        "  FX_dict = w2pos_LST20[fx]\n",
        "  FX_list.append(FX_dict)\n",
        "\n",
        "print(FX_list)"
      ],
      "execution_count": null,
      "outputs": []
    },
    {
      "cell_type": "code",
      "metadata": {
        "id": "RaS_VLzSqHJ7"
      },
      "source": [
        "FX_df_list = []\n",
        "for ele in FX_list:\n",
        "  FX_df_list.append(pd.DataFrame.from_dict(ele, orient = 'index').rename(columns = {0: 'Count'}))"
      ],
      "execution_count": null,
      "outputs": []
    },
    {
      "cell_type": "code",
      "metadata": {
        "id": "TTWXuawXwKbP"
      },
      "source": [
        "for idx, df in enumerate(FX_df_list):\n",
        "  df['Percentage'] = (df['Count'] / (df['Count'].sum())) * 100\n",
        "  print(\"{}\".format(FX_check[idx]))\n",
        "  display(df)\n",
        "  print('\\n')"
      ],
      "execution_count": null,
      "outputs": []
    },
    {
      "cell_type": "code",
      "metadata": {
        "id": "KdknvYpp0duz"
      },
      "source": [
        "df = FX_df_list[0]\n",
        "df.loc['FX','Percentage']"
      ],
      "execution_count": null,
      "outputs": []
    },
    {
      "cell_type": "code",
      "metadata": {
        "id": "FZ2E7rKyy2ke"
      },
      "source": [
        "FX_minor = []\n",
        "for idx, df in enumerate(FX_df_list):\n",
        "  if df.loc['FX','Percentage'] < 50.000:\n",
        "    FX_minor.append(FX_check[idx])\n",
        "\n",
        "for word in FX_minor:\n",
        "  search_CON(word,'FX',10)"
      ],
      "execution_count": null,
      "outputs": []
    },
    {
      "cell_type": "code",
      "metadata": {
        "id": "kKMhtfnTqHJ9"
      },
      "source": [
        "for df in FX_df_list:\n",
        "  display(px.bar(df, y = \"index\", x = \"Count\", color = \"index\", orientation = 'h'))"
      ],
      "execution_count": null,
      "outputs": []
    },
    {
      "cell_type": "code",
      "metadata": {
        "id": "cniTX0Rnrw0a"
      },
      "source": [
        "#หาคำที่อัตราส่วน FX น้อย\n",
        "err_idx = []\n",
        "def fx_percentage"
      ],
      "execution_count": null,
      "outputs": []
    },
    {
      "cell_type": "markdown",
      "metadata": {
        "id": "sRax-WjefnFc"
      },
      "source": [
        "# UD Wordbank"
      ]
    },
    {
      "cell_type": "code",
      "metadata": {
        "id": "Y-BeVrwGfnik"
      },
      "source": [
        ""
      ],
      "execution_count": null,
      "outputs": []
    }
  ]
}